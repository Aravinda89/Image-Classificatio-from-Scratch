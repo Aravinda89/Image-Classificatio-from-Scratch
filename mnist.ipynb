{
  "nbformat": 4,
  "nbformat_minor": 0,
  "metadata": {
    "colab": {
      "name": "mnist.ipynb",
      "provenance": [],
      "collapsed_sections": [],
      "authorship_tag": "ABX9TyNRdCNrqDa4PoMrvH0xzUIz",
      "include_colab_link": true
    },
    "kernelspec": {
      "name": "python3",
      "display_name": "Python 3"
    },
    "language_info": {
      "name": "python"
    },
    "accelerator": "GPU"
  },
  "cells": [
    {
      "cell_type": "markdown",
      "metadata": {
        "id": "view-in-github",
        "colab_type": "text"
      },
      "source": [
        "<a href=\"https://colab.research.google.com/github/Aravinda89/Image-Classificatio-from-Scratch/blob/main/mnist.ipynb\" target=\"_parent\"><img src=\"https://colab.research.google.com/assets/colab-badge.svg\" alt=\"Open In Colab\"/></a>"
      ]
    },
    {
      "cell_type": "code",
      "execution_count": 1,
      "metadata": {
        "id": "xuQPq47Zsg1P",
        "colab": {
          "base_uri": "https://localhost:8080/"
        },
        "outputId": "8469bdff-5c67-41ab-c100-f5a49cec4752"
      },
      "outputs": [
        {
          "output_type": "stream",
          "name": "stdout",
          "text": [
            "\u001b[K     |████████████████████████████████| 189 kB 5.1 MB/s \n",
            "\u001b[K     |████████████████████████████████| 56 kB 2.5 MB/s \n",
            "\u001b[?25h"
          ]
        }
      ],
      "source": [
        "# !pip install fastai==2.0.15\n",
        "# !pip install fastai2==0.0.30\n",
        "# !pip install fastcore==1.0.16\n",
        "# !pip install fastai --upgrade\n",
        "\n",
        "! [ -e /content ] && pip install -Uqq fastai \n"
      ]
    },
    {
      "cell_type": "code",
      "source": [
        "# !pip install --upgrade git+https://github.com/fastai/fastai.git"
      ],
      "metadata": {
        "id": "4gFMlAoEfLu2"
      },
      "execution_count": null,
      "outputs": []
    },
    {
      "cell_type": "code",
      "source": [
        "from google.colab import drive\n",
        "drive.mount(\"/content/gdrive\", force_remount=True)"
      ],
      "metadata": {
        "colab": {
          "base_uri": "https://localhost:8080/"
        },
        "id": "wVOBM-BHcqYa",
        "outputId": "5a0b909f-55e1-4dd0-8261-ca429a3e7753"
      },
      "execution_count": 65,
      "outputs": [
        {
          "output_type": "stream",
          "name": "stdout",
          "text": [
            "Mounted at /content/gdrive\n"
          ]
        }
      ]
    },
    {
      "cell_type": "code",
      "source": [
        "from fastai.vision.all import *"
      ],
      "metadata": {
        "id": "1RiLEczHtgnK"
      },
      "execution_count": 2,
      "outputs": []
    },
    {
      "cell_type": "code",
      "source": [
        "from torch import nn\n",
        "\n",
        "from fastai.callback.hook import summary\n",
        "from fastai.callback.schedule import fit_one_cycle, lr_find \n",
        "from fastai.callback.progress import ProgressCallback\n",
        "\n",
        "from fastai.data.core import Datasets, DataLoaders, show_at\n",
        "from fastai.data.external import untar_data, URLs\n",
        "from fastai.data.transforms import Categorize, GrandparentSplitter, parent_label, ToTensor, IntToFloatTensor, Normalize\n",
        "\n",
        "from fastai.layers import Flatten\n",
        "from fastai.learner import Learner\n",
        "\n",
        "from fastai.metrics import accuracy, CrossEntropyLossFlat\n",
        "\n",
        "from fastai.vision.augment import CropPad, RandomCrop, PadMode\n",
        "from fastai.vision.core import PILImageBW\n",
        "from fastai.vision.utils import get_image_files"
      ],
      "metadata": {
        "id": "wZexsZ-ntNrv"
      },
      "execution_count": 3,
      "outputs": []
    },
    {
      "cell_type": "code",
      "source": [
        "# Load data\n",
        "path = untar_data(URLs.MNIST)"
      ],
      "metadata": {
        "colab": {
          "base_uri": "https://localhost:8080/",
          "height": 37
        },
        "id": "UsT2B4ewwjpg",
        "outputId": "4258e562-8fc3-46bd-9f2c-8bacc4842e99"
      },
      "execution_count": 4,
      "outputs": [
        {
          "output_type": "display_data",
          "data": {
            "text/html": [
              "\n",
              "    <div>\n",
              "        <style>\n",
              "            /* Turns off some styling */\n",
              "            progress {\n",
              "                /* gets rid of default border in Firefox and Opera. */\n",
              "                border: none;\n",
              "                /* Needs to be in here for Safari polyfill so background images work as expected. */\n",
              "                background-size: auto;\n",
              "            }\n",
              "            .progress-bar-interrupted, .progress-bar-interrupted::-webkit-progress-bar {\n",
              "                background: #F44336;\n",
              "            }\n",
              "        </style>\n",
              "      <progress value='15687680' class='' max='15683414' style='width:300px; height:20px; vertical-align: middle;'></progress>\n",
              "      100.03% [15687680/15683414 00:00<00:00]\n",
              "    </div>\n",
              "    "
            ],
            "text/plain": [
              "<IPython.core.display.HTML object>"
            ]
          },
          "metadata": {}
        }
      ]
    },
    {
      "cell_type": "code",
      "source": [
        "items = get_image_files(path)"
      ],
      "metadata": {
        "id": "hbrxPUmwww37"
      },
      "execution_count": 5,
      "outputs": []
    },
    {
      "cell_type": "code",
      "source": [
        "items[0]"
      ],
      "metadata": {
        "colab": {
          "base_uri": "https://localhost:8080/"
        },
        "id": "OjOV9tW1w71P",
        "outputId": "90c52c75-9ba9-46c6-c154-d506bfa58b6b"
      },
      "execution_count": 6,
      "outputs": [
        {
          "output_type": "execute_result",
          "data": {
            "text/plain": [
              "Path('/root/.fastai/data/mnist_png/testing/1/9923.png')"
            ]
          },
          "metadata": {},
          "execution_count": 6
        }
      ]
    },
    {
      "cell_type": "code",
      "source": [
        "items[:3]"
      ],
      "metadata": {
        "colab": {
          "base_uri": "https://localhost:8080/"
        },
        "id": "Y1bYU0gt0Ze-",
        "outputId": "4e875b50-ee75-4dd5-bc51-85126aaa0e6a"
      },
      "execution_count": 7,
      "outputs": [
        {
          "output_type": "execute_result",
          "data": {
            "text/plain": [
              "(#3) [Path('/root/.fastai/data/mnist_png/testing/1/9923.png'),Path('/root/.fastai/data/mnist_png/testing/1/3433.png'),Path('/root/.fastai/data/mnist_png/testing/1/6224.png')]"
            ]
          },
          "metadata": {},
          "execution_count": 7
        }
      ]
    },
    {
      "cell_type": "code",
      "source": [
        "# Visualize image\n",
        "im = PILImageBW.create(items[0])\n",
        "im.show()"
      ],
      "metadata": {
        "colab": {
          "base_uri": "https://localhost:8080/",
          "height": 102
        },
        "id": "CPOLS380xHW9",
        "outputId": "963d39a3-7e99-4ff5-9daa-8feef44850e9"
      },
      "execution_count": 9,
      "outputs": [
        {
          "output_type": "execute_result",
          "data": {
            "text/plain": [
              "<matplotlib.axes._subplots.AxesSubplot at 0x7ff0fd464710>"
            ]
          },
          "metadata": {},
          "execution_count": 9
        },
        {
          "output_type": "display_data",
          "data": {
            "image/png": "[encoded data removed]",
            "text/plain": [
              "<Figure size 72x72 with 1 Axes>"
            ]
          },
          "metadata": {
            "needs_background": "light"
          }
        }
      ]
    },
    {
      "cell_type": "code",
      "source": [
        "# Split train/test set\n",
        "splits = GrandparentSplitter(train_name='training', valid_name='testing')"
      ],
      "metadata": {
        "id": "r7YjT6l5xO67"
      },
      "execution_count": 10,
      "outputs": []
    },
    {
      "cell_type": "code",
      "source": [
        "splits = splits(items)"
      ],
      "metadata": {
        "id": "AM3ixnqGx4o6"
      },
      "execution_count": 11,
      "outputs": []
    },
    {
      "cell_type": "code",
      "source": [
        "splits[0][:5]"
      ],
      "metadata": {
        "colab": {
          "base_uri": "https://localhost:8080/"
        },
        "id": "Q2rtGUfU0zHR",
        "outputId": "7a170b92-4160-415f-99d0-52e8d899338c"
      },
      "execution_count": 12,
      "outputs": [
        {
          "output_type": "execute_result",
          "data": {
            "text/plain": [
              "[10000, 10001, 10002, 10003, 10004]"
            ]
          },
          "metadata": {},
          "execution_count": 12
        }
      ]
    },
    {
      "cell_type": "code",
      "source": [
        "len(splits[0])"
      ],
      "metadata": {
        "colab": {
          "base_uri": "https://localhost:8080/"
        },
        "id": "uLW0XM3g0iA6",
        "outputId": "f5b9e3bb-d1ab-4fff-9a09-092d9ece50bb"
      },
      "execution_count": 13,
      "outputs": [
        {
          "output_type": "execute_result",
          "data": {
            "text/plain": [
              "60000"
            ]
          },
          "metadata": {},
          "execution_count": 13
        }
      ]
    },
    {
      "cell_type": "code",
      "source": [
        "len(splits[1])"
      ],
      "metadata": {
        "colab": {
          "base_uri": "https://localhost:8080/"
        },
        "id": "JAZ3XrVF0jUh",
        "outputId": "86ad035a-bd38-43bf-8f56-0f4093a89123"
      },
      "execution_count": 14,
      "outputs": [
        {
          "output_type": "execute_result",
          "data": {
            "text/plain": [
              "10000"
            ]
          },
          "metadata": {},
          "execution_count": 14
        }
      ]
    },
    {
      "cell_type": "code",
      "source": [
        "dsrc = Datasets(items, tfms=[[PILImageBW.create], [parent_label, Categorize]], \n",
        "                  splits=splits)"
      ],
      "metadata": {
        "id": "ElijNega0srG"
      },
      "execution_count": 15,
      "outputs": []
    },
    {
      "cell_type": "code",
      "source": [
        "show_at(dsrc.train,5)"
      ],
      "metadata": {
        "colab": {
          "base_uri": "https://localhost:8080/",
          "height": 118
        },
        "id": "pRyYCD1j1c5_",
        "outputId": "dbb3e927-46a9-46fe-867c-fdb3eb5cfa97"
      },
      "execution_count": 16,
      "outputs": [
        {
          "output_type": "execute_result",
          "data": {
            "text/plain": [
              "<matplotlib.axes._subplots.AxesSubplot at 0x7ff0fd433e50>"
            ]
          },
          "metadata": {},
          "execution_count": 16
        },
        {
          "output_type": "display_data",
          "data": {
            "image/png": "[encoded data removed]",
            "text/plain": [
              "<Figure size 72x72 with 1 Axes>"
            ]
          },
          "metadata": {
            "needs_background": "light"
          }
        }
      ]
    },
    {
      "cell_type": "code",
      "source": [
        "show_at(dsrc.valid,5000)"
      ],
      "metadata": {
        "colab": {
          "base_uri": "https://localhost:8080/",
          "height": 118
        },
        "id": "ZMXi_y4D1fOe",
        "outputId": "64f9d4ec-d64b-4b0c-bac3-9bcb8686f7ce"
      },
      "execution_count": 17,
      "outputs": [
        {
          "output_type": "execute_result",
          "data": {
            "text/plain": [
              "<matplotlib.axes._subplots.AxesSubplot at 0x7ff0fccbee50>"
            ]
          },
          "metadata": {},
          "execution_count": 17
        },
        {
          "output_type": "display_data",
          "data": {
            "image/png": "[encoded data removed]",
            "text/plain": [
              "<Figure size 72x72 with 1 Axes>"
            ]
          },
          "metadata": {
            "needs_background": "light"
          }
        }
      ]
    },
    {
      "cell_type": "code",
      "source": [
        "tfms = [ToTensor(), CropPad(size=34, pad_mode=PadMode.Zeros), RandomCrop(size=28)]"
      ],
      "metadata": {
        "id": "da_Z97uS1nRz"
      },
      "execution_count": 18,
      "outputs": []
    },
    {
      "cell_type": "code",
      "source": [
        "gpu_tfms = [IntToFloatTensor(), Normalize()]"
      ],
      "metadata": {
        "id": "3tUoilLL2RRl"
      },
      "execution_count": 19,
      "outputs": []
    },
    {
      "cell_type": "code",
      "source": [
        "dls = dsrc.dataloaders(bs=128, after_item=tfms, after_batch=gpu_tfms)"
      ],
      "metadata": {
        "id": "qRpK3Q312KMo"
      },
      "execution_count": 20,
      "outputs": []
    },
    {
      "cell_type": "code",
      "source": [
        "dls.show_batch()"
      ],
      "metadata": {
        "colab": {
          "base_uri": "https://localhost:8080/",
          "height": 536
        },
        "id": "RMHsPt4T2NSF",
        "outputId": "5505e0de-7194-4ccd-a189-bc180abd3a05"
      },
      "execution_count": 21,
      "outputs": [
        {
          "output_type": "display_data",
          "data": {
            "image/png": "[encoded data removed]",
            "text/plain": [
              "<Figure size 648x648 with 9 Axes>"
            ]
          },
          "metadata": {
            "needs_background": "light"
          }
        }
      ]
    },
    {
      "cell_type": "code",
      "source": [
        "xb, yb = dls.one_batch()"
      ],
      "metadata": {
        "id": "69IdAumt2giX"
      },
      "execution_count": 22,
      "outputs": []
    },
    {
      "cell_type": "code",
      "source": [
        "xb.shape, yb.shape"
      ],
      "metadata": {
        "colab": {
          "base_uri": "https://localhost:8080/"
        },
        "id": "Dls6owKA2hKB",
        "outputId": "3431bf85-a0be-4227-ab3f-fdcb3a9f6d45"
      },
      "execution_count": 23,
      "outputs": [
        {
          "output_type": "execute_result",
          "data": {
            "text/plain": [
              "(torch.Size([128, 1, 28, 28]), torch.Size([128]))"
            ]
          },
          "metadata": {},
          "execution_count": 23
        }
      ]
    },
    {
      "cell_type": "code",
      "source": [
        "dls.c"
      ],
      "metadata": {
        "colab": {
          "base_uri": "https://localhost:8080/"
        },
        "id": "PDEohNWF2ioJ",
        "outputId": "ff9e3e88-45cf-40ed-ba60-7a9b6473df77"
      },
      "execution_count": 24,
      "outputs": [
        {
          "output_type": "execute_result",
          "data": {
            "text/plain": [
              "10"
            ]
          },
          "metadata": {},
          "execution_count": 24
        }
      ]
    },
    {
      "cell_type": "markdown",
      "source": [
        "Model"
      ],
      "metadata": {
        "id": "3siRFohm6UI3"
      }
    },
    {
      "cell_type": "code",
      "source": [
        "def conv(ni, nf): \n",
        "  return nn.Conv2d(ni, nf, kernel_size=3, stride=2, padding=1)"
      ],
      "metadata": {
        "id": "CEmm2uxE2m0Q"
      },
      "execution_count": 25,
      "outputs": []
    },
    {
      "cell_type": "code",
      "source": [
        "def bn(nf): \n",
        "  return nn.BatchNorm2d(nf)"
      ],
      "metadata": {
        "id": "Yq5VbwBp433U"
      },
      "execution_count": 26,
      "outputs": []
    },
    {
      "cell_type": "code",
      "source": [
        "def ReLU(): \n",
        "  return nn.ReLU(inplace=False)"
      ],
      "metadata": {
        "id": "CSoF-pwS5OPn"
      },
      "execution_count": 27,
      "outputs": []
    },
    {
      "cell_type": "code",
      "source": [
        "model = nn.Sequential(\n",
        "                      conv(1, 8),\n",
        "                      bn(8),\n",
        "                      ReLU(),\n",
        "                      conv(8, 16),\n",
        "                      bn(16),\n",
        "                      ReLU(),\n",
        "                      conv(16,32),\n",
        "                      bn(32),\n",
        "                      ReLU(),\n",
        "                      conv(32, 16),\n",
        "                      bn(16),\n",
        "                      ReLU(),\n",
        "                      conv(16, 10),\n",
        "                      bn(10),\n",
        "                      Flatten()\n",
        ")"
      ],
      "metadata": {
        "id": "-slezQcG5cN8"
      },
      "execution_count": 28,
      "outputs": []
    },
    {
      "cell_type": "code",
      "source": [
        "model"
      ],
      "metadata": {
        "colab": {
          "base_uri": "https://localhost:8080/"
        },
        "id": "DhmAF9G_54Cq",
        "outputId": "d79e2e1b-b817-483d-a802-86d1095393ff"
      },
      "execution_count": 29,
      "outputs": [
        {
          "output_type": "execute_result",
          "data": {
            "text/plain": [
              "Sequential(\n",
              "  (0): Conv2d(1, 8, kernel_size=(3, 3), stride=(2, 2), padding=(1, 1))\n",
              "  (1): BatchNorm2d(8, eps=1e-05, momentum=0.1, affine=True, track_running_stats=True)\n",
              "  (2): ReLU()\n",
              "  (3): Conv2d(8, 16, kernel_size=(3, 3), stride=(2, 2), padding=(1, 1))\n",
              "  (4): BatchNorm2d(16, eps=1e-05, momentum=0.1, affine=True, track_running_stats=True)\n",
              "  (5): ReLU()\n",
              "  (6): Conv2d(16, 32, kernel_size=(3, 3), stride=(2, 2), padding=(1, 1))\n",
              "  (7): BatchNorm2d(32, eps=1e-05, momentum=0.1, affine=True, track_running_stats=True)\n",
              "  (8): ReLU()\n",
              "  (9): Conv2d(32, 16, kernel_size=(3, 3), stride=(2, 2), padding=(1, 1))\n",
              "  (10): BatchNorm2d(16, eps=1e-05, momentum=0.1, affine=True, track_running_stats=True)\n",
              "  (11): ReLU()\n",
              "  (12): Conv2d(16, 10, kernel_size=(3, 3), stride=(2, 2), padding=(1, 1))\n",
              "  (13): BatchNorm2d(10, eps=1e-05, momentum=0.1, affine=True, track_running_stats=True)\n",
              "  (14): Flatten(full=False)\n",
              ")"
            ]
          },
          "metadata": {},
          "execution_count": 29
        }
      ]
    },
    {
      "cell_type": "code",
      "source": [
        "learn = Learner(dls, model, loss_func=CrossEntropyLossFlat(), metrics=accuracy)"
      ],
      "metadata": {
        "id": "piGDhGjI56UC"
      },
      "execution_count": 30,
      "outputs": []
    },
    {
      "cell_type": "code",
      "source": [
        "learn.summary()"
      ],
      "metadata": {
        "colab": {
          "base_uri": "https://localhost:8080/",
          "height": 763
        },
        "id": "iK0jdtlS6DGK",
        "outputId": "ad25ded1-8261-4d37-f7cc-31fdd0586d63"
      },
      "execution_count": 31,
      "outputs": [
        {
          "output_type": "display_data",
          "data": {
            "text/html": [
              ""
            ],
            "text/plain": [
              "<IPython.core.display.HTML object>"
            ]
          },
          "metadata": {}
        },
        {
          "output_type": "execute_result",
          "data": {
            "application/vnd.google.colaboratory.intrinsic+json": {
              "type": "string"
            },
            "text/plain": [
              "Sequential (Input shape: 128 x 1 x 28 x 28)\n",
              "============================================================================\n",
              "Layer (type)         Output Shape         Param #    Trainable \n",
              "============================================================================\n",
              "                     128 x 8 x 14 x 14   \n",
              "Conv2d                                    80         True      \n",
              "BatchNorm2d                               16         True      \n",
              "ReLU                                                           \n",
              "____________________________________________________________________________\n",
              "                     128 x 16 x 7 x 7    \n",
              "Conv2d                                    1168       True      \n",
              "BatchNorm2d                               32         True      \n",
              "ReLU                                                           \n",
              "____________________________________________________________________________\n",
              "                     128 x 32 x 4 x 4    \n",
              "Conv2d                                    4640       True      \n",
              "BatchNorm2d                               64         True      \n",
              "ReLU                                                           \n",
              "____________________________________________________________________________\n",
              "                     128 x 16 x 2 x 2    \n",
              "Conv2d                                    4624       True      \n",
              "BatchNorm2d                               32         True      \n",
              "ReLU                                                           \n",
              "____________________________________________________________________________\n",
              "                     128 x 10 x 1 x 1    \n",
              "Conv2d                                    1450       True      \n",
              "BatchNorm2d                               20         True      \n",
              "____________________________________________________________________________\n",
              "                     128 x 10            \n",
              "Flatten                                                        \n",
              "____________________________________________________________________________\n",
              "\n",
              "Total params: 12,126\n",
              "Total trainable params: 12,126\n",
              "Total non-trainable params: 0\n",
              "\n",
              "Optimizer used: <function Adam at 0x7ff0feb12710>\n",
              "Loss function: FlattenedLoss of CrossEntropyLoss()\n",
              "\n",
              "Callbacks:\n",
              "  - TrainEvalCallback\n",
              "  - Recorder\n",
              "  - ProgressCallback"
            ]
          },
          "metadata": {},
          "execution_count": 31
        }
      ]
    },
    {
      "cell_type": "markdown",
      "source": [
        "Learning Rate finder"
      ],
      "metadata": {
        "id": "dFn13Y-W6Yv5"
      }
    },
    {
      "cell_type": "code",
      "source": [
        "learn.lr_find()"
      ],
      "metadata": {
        "colab": {
          "base_uri": "https://localhost:8080/",
          "height": 300
        },
        "id": "Nrevq6MD6Ffw",
        "outputId": "c7a03e13-236c-4875-b637-b5b6a6700fab"
      },
      "execution_count": 32,
      "outputs": [
        {
          "output_type": "display_data",
          "data": {
            "text/html": [
              ""
            ],
            "text/plain": [
              "<IPython.core.display.HTML object>"
            ]
          },
          "metadata": {}
        },
        {
          "output_type": "execute_result",
          "data": {
            "text/plain": [
              "SuggestedLRs(valley=0.007585775572806597)"
            ]
          },
          "metadata": {},
          "execution_count": 32
        },
        {
          "output_type": "display_data",
          "data": {
            "image/png": "[encoded data removed]",
            "text/plain": [
              "<Figure size 432x288 with 1 Axes>"
            ]
          },
          "metadata": {
            "needs_background": "light"
          }
        }
      ]
    },
    {
      "cell_type": "code",
      "source": [
        "learn.fit_one_cycle(3, lr_max=0.007585775572806597)"
      ],
      "metadata": {
        "colab": {
          "base_uri": "https://localhost:8080/",
          "height": 143
        },
        "id": "_evnsAmc6bsx",
        "outputId": "3cd5ab76-9873-4436-ffb4-17964abaf78a"
      },
      "execution_count": 33,
      "outputs": [
        {
          "output_type": "display_data",
          "data": {
            "text/html": [
              "<table border=\"1\" class=\"dataframe\">\n",
              "  <thead>\n",
              "    <tr style=\"text-align: left;\">\n",
              "      <th>epoch</th>\n",
              "      <th>train_loss</th>\n",
              "      <th>valid_loss</th>\n",
              "      <th>accuracy</th>\n",
              "      <th>time</th>\n",
              "    </tr>\n",
              "  </thead>\n",
              "  <tbody>\n",
              "    <tr>\n",
              "      <td>0</td>\n",
              "      <td>0.223356</td>\n",
              "      <td>0.102135</td>\n",
              "      <td>0.975900</td>\n",
              "      <td>02:02</td>\n",
              "    </tr>\n",
              "    <tr>\n",
              "      <td>1</td>\n",
              "      <td>0.106188</td>\n",
              "      <td>0.082468</td>\n",
              "      <td>0.977100</td>\n",
              "      <td>02:01</td>\n",
              "    </tr>\n",
              "    <tr>\n",
              "      <td>2</td>\n",
              "      <td>0.070597</td>\n",
              "      <td>0.046878</td>\n",
              "      <td>0.987400</td>\n",
              "      <td>02:01</td>\n",
              "    </tr>\n",
              "  </tbody>\n",
              "</table>"
            ],
            "text/plain": [
              "<IPython.core.display.HTML object>"
            ]
          },
          "metadata": {}
        }
      ]
    },
    {
      "cell_type": "code",
      "source": [
        "learn.fit_one_cycle(5, lr_max=0.007585775572806597, cbs=EarlyStoppingCallback(monitor='accuracy', \n",
        "                                                                             min_delta=0.1,\n",
        "                                                                             patience=2))"
      ],
      "metadata": {
        "id": "qWi4DRxX6oPP",
        "colab": {
          "base_uri": "https://localhost:8080/",
          "height": 161
        },
        "outputId": "039f43a8-6dd5-4371-cdb2-1047888faf17"
      },
      "execution_count": 36,
      "outputs": [
        {
          "output_type": "display_data",
          "data": {
            "text/html": [
              "<table border=\"1\" class=\"dataframe\">\n",
              "  <thead>\n",
              "    <tr style=\"text-align: left;\">\n",
              "      <th>epoch</th>\n",
              "      <th>train_loss</th>\n",
              "      <th>valid_loss</th>\n",
              "      <th>accuracy</th>\n",
              "      <th>time</th>\n",
              "    </tr>\n",
              "  </thead>\n",
              "  <tbody>\n",
              "    <tr>\n",
              "      <td>0</td>\n",
              "      <td>0.112768</td>\n",
              "      <td>0.070477</td>\n",
              "      <td>0.980400</td>\n",
              "      <td>02:01</td>\n",
              "    </tr>\n",
              "    <tr>\n",
              "      <td>1</td>\n",
              "      <td>0.097031</td>\n",
              "      <td>0.053011</td>\n",
              "      <td>0.983600</td>\n",
              "      <td>02:01</td>\n",
              "    </tr>\n",
              "    <tr>\n",
              "      <td>2</td>\n",
              "      <td>0.075611</td>\n",
              "      <td>0.048841</td>\n",
              "      <td>0.985800</td>\n",
              "      <td>02:01</td>\n",
              "    </tr>\n",
              "  </tbody>\n",
              "</table>"
            ],
            "text/plain": [
              "<IPython.core.display.HTML object>"
            ]
          },
          "metadata": {}
        },
        {
          "output_type": "stream",
          "name": "stdout",
          "text": [
            "No improvement since epoch 0: early stopping\n"
          ]
        }
      ]
    },
    {
      "cell_type": "markdown",
      "source": [
        "Simplify"
      ],
      "metadata": {
        "id": "S32Ef6IhLD3n"
      }
    },
    {
      "cell_type": "code",
      "source": [
        "def conv2(ni, nf): \n",
        "  return ConvLayer(ni, nf, stride=2)"
      ],
      "metadata": {
        "id": "cG3dIHWAKyh3"
      },
      "execution_count": 38,
      "outputs": []
    },
    {
      "cell_type": "code",
      "source": [
        "net = nn.Sequential(\n",
        "                    conv2(1,8),\n",
        "                    conv2(8,16),\n",
        "                    conv2(16,32),\n",
        "                    conv2(32,16),\n",
        "                    conv2(16,10),\n",
        "                    Flatten()\n",
        ")"
      ],
      "metadata": {
        "id": "5jDzio0ELGfb"
      },
      "execution_count": 39,
      "outputs": []
    },
    {
      "cell_type": "code",
      "source": [
        "learn = Learner(dls, net, loss_func=CrossEntropyLossFlat(), metrics=accuracy)"
      ],
      "metadata": {
        "id": "ZLhizKYULZIL"
      },
      "execution_count": 40,
      "outputs": []
    },
    {
      "cell_type": "code",
      "source": [
        "learn.summary()"
      ],
      "metadata": {
        "colab": {
          "base_uri": "https://localhost:8080/",
          "height": 781
        },
        "id": "RfqGy_HdOvkJ",
        "outputId": "c5aec47a-6a2f-49e8-d67e-f3d2616e78c8"
      },
      "execution_count": 41,
      "outputs": [
        {
          "output_type": "display_data",
          "data": {
            "text/html": [
              ""
            ],
            "text/plain": [
              "<IPython.core.display.HTML object>"
            ]
          },
          "metadata": {}
        },
        {
          "output_type": "execute_result",
          "data": {
            "application/vnd.google.colaboratory.intrinsic+json": {
              "type": "string"
            },
            "text/plain": [
              "Sequential (Input shape: 128 x 1 x 28 x 28)\n",
              "============================================================================\n",
              "Layer (type)         Output Shape         Param #    Trainable \n",
              "============================================================================\n",
              "                     128 x 8 x 14 x 14   \n",
              "Conv2d                                    72         True      \n",
              "BatchNorm2d                               16         True      \n",
              "ReLU                                                           \n",
              "____________________________________________________________________________\n",
              "                     128 x 16 x 7 x 7    \n",
              "Conv2d                                    1152       True      \n",
              "BatchNorm2d                               32         True      \n",
              "ReLU                                                           \n",
              "____________________________________________________________________________\n",
              "                     128 x 32 x 4 x 4    \n",
              "Conv2d                                    4608       True      \n",
              "BatchNorm2d                               64         True      \n",
              "ReLU                                                           \n",
              "____________________________________________________________________________\n",
              "                     128 x 16 x 2 x 2    \n",
              "Conv2d                                    4608       True      \n",
              "BatchNorm2d                               32         True      \n",
              "ReLU                                                           \n",
              "____________________________________________________________________________\n",
              "                     128 x 10 x 1 x 1    \n",
              "Conv2d                                    1440       True      \n",
              "BatchNorm2d                               20         True      \n",
              "ReLU                                                           \n",
              "____________________________________________________________________________\n",
              "                     128 x 10            \n",
              "Flatten                                                        \n",
              "____________________________________________________________________________\n",
              "\n",
              "Total params: 12,044\n",
              "Total trainable params: 12,044\n",
              "Total non-trainable params: 0\n",
              "\n",
              "Optimizer used: <function Adam at 0x7ff0feb12710>\n",
              "Loss function: FlattenedLoss of CrossEntropyLoss()\n",
              "\n",
              "Callbacks:\n",
              "  - TrainEvalCallback\n",
              "  - Recorder\n",
              "  - ProgressCallback"
            ]
          },
          "metadata": {},
          "execution_count": 41
        }
      ]
    },
    {
      "cell_type": "code",
      "source": [
        "learn.lr_find()"
      ],
      "metadata": {
        "colab": {
          "base_uri": "https://localhost:8080/",
          "height": 300
        },
        "id": "3kiZLi23O26G",
        "outputId": "ba691d1f-214c-4e25-ce84-6c62e21b8135"
      },
      "execution_count": 42,
      "outputs": [
        {
          "output_type": "display_data",
          "data": {
            "text/html": [
              ""
            ],
            "text/plain": [
              "<IPython.core.display.HTML object>"
            ]
          },
          "metadata": {}
        },
        {
          "output_type": "execute_result",
          "data": {
            "text/plain": [
              "SuggestedLRs(valley=0.010964781977236271)"
            ]
          },
          "metadata": {},
          "execution_count": 42
        },
        {
          "output_type": "display_data",
          "data": {
            "image/png": "[encoded data removed]",
            "text/plain": [
              "<Figure size 432x288 with 1 Axes>"
            ]
          },
          "metadata": {
            "needs_background": "light"
          }
        }
      ]
    },
    {
      "cell_type": "code",
      "source": [
        "learn.fit_one_cycle(10, lr_max=0.010964781977236271, cbs=EarlyStoppingCallback(monitor='valid_loss', \n",
        "                                                                             min_delta=0.01,\n",
        "                                                                             patience=3))"
      ],
      "metadata": {
        "colab": {
          "base_uri": "https://localhost:8080/",
          "height": 192
        },
        "id": "aurcjzezLdjM",
        "outputId": "431e2897-8458-4cf4-a89d-f3e5d35cbcf5"
      },
      "execution_count": 43,
      "outputs": [
        {
          "output_type": "display_data",
          "data": {
            "text/html": [
              "<table border=\"1\" class=\"dataframe\">\n",
              "  <thead>\n",
              "    <tr style=\"text-align: left;\">\n",
              "      <th>epoch</th>\n",
              "      <th>train_loss</th>\n",
              "      <th>valid_loss</th>\n",
              "      <th>accuracy</th>\n",
              "      <th>time</th>\n",
              "    </tr>\n",
              "  </thead>\n",
              "  <tbody>\n",
              "    <tr>\n",
              "      <td>0</td>\n",
              "      <td>0.492034</td>\n",
              "      <td>0.272352</td>\n",
              "      <td>0.953100</td>\n",
              "      <td>02:01</td>\n",
              "    </tr>\n",
              "    <tr>\n",
              "      <td>1</td>\n",
              "      <td>0.177863</td>\n",
              "      <td>0.113493</td>\n",
              "      <td>0.967900</td>\n",
              "      <td>02:00</td>\n",
              "    </tr>\n",
              "    <tr>\n",
              "      <td>2</td>\n",
              "      <td>0.137520</td>\n",
              "      <td>0.072422</td>\n",
              "      <td>0.976900</td>\n",
              "      <td>02:01</td>\n",
              "    </tr>\n",
              "    <tr>\n",
              "      <td>3</td>\n",
              "      <td>0.108060</td>\n",
              "      <td>0.062767</td>\n",
              "      <td>0.981200</td>\n",
              "      <td>02:01</td>\n",
              "    </tr>\n",
              "  </tbody>\n",
              "</table>"
            ],
            "text/plain": [
              "<IPython.core.display.HTML object>"
            ]
          },
          "metadata": {}
        },
        {
          "output_type": "stream",
          "name": "stdout",
          "text": [
            "No improvement since epoch 1: early stopping\n"
          ]
        }
      ]
    },
    {
      "cell_type": "markdown",
      "source": [
        "ResNet (kinda)"
      ],
      "metadata": {
        "id": "21d67u3UMF3o"
      }
    },
    {
      "cell_type": "code",
      "source": [
        "class ResBlock(Module):\n",
        "  def __init__(self, nf):\n",
        "    self.conv1 = ConvLayer(nf, nf)\n",
        "    self.conv2 = ConvLayer(nf, nf)\n",
        "  \n",
        "  def forward(self, x): \n",
        "    return x + self.conv2(self.conv1(x))"
      ],
      "metadata": {
        "id": "ITB-ZpfOMGPV"
      },
      "execution_count": 52,
      "outputs": []
    },
    {
      "cell_type": "code",
      "source": [
        "net = nn.Sequential(\n",
        "                    conv2(1,8),\n",
        "                    ResBlock(8),\n",
        "                    conv2(8,16),\n",
        "                    ResBlock(16),\n",
        "                    conv2(16,32),\n",
        "                    ResBlock(32),\n",
        "                    conv2(32,16),\n",
        "                    ResBlock(16),\n",
        "                    conv2(16,10),\n",
        "                    Flatten())"
      ],
      "metadata": {
        "id": "N-t_0pOwQf9y"
      },
      "execution_count": 54,
      "outputs": []
    },
    {
      "cell_type": "code",
      "source": [
        "net"
      ],
      "metadata": {
        "colab": {
          "base_uri": "https://localhost:8080/"
        },
        "id": "UHGCuUyzTcKq",
        "outputId": "63732d8f-02dd-4d18-bd3d-879257d080d8"
      },
      "execution_count": 56,
      "outputs": [
        {
          "output_type": "execute_result",
          "data": {
            "text/plain": [
              "Sequential(\n",
              "  (0): ConvLayer(\n",
              "    (0): Conv2d(1, 8, kernel_size=(3, 3), stride=(2, 2), padding=(1, 1), bias=False)\n",
              "    (1): BatchNorm2d(8, eps=1e-05, momentum=0.1, affine=True, track_running_stats=True)\n",
              "    (2): ReLU()\n",
              "  )\n",
              "  (1): ResBlock(\n",
              "    (conv1): ConvLayer(\n",
              "      (0): Conv2d(8, 8, kernel_size=(3, 3), stride=(1, 1), padding=(1, 1), bias=False)\n",
              "      (1): BatchNorm2d(8, eps=1e-05, momentum=0.1, affine=True, track_running_stats=True)\n",
              "      (2): ReLU()\n",
              "    )\n",
              "    (conv2): ConvLayer(\n",
              "      (0): Conv2d(8, 8, kernel_size=(3, 3), stride=(1, 1), padding=(1, 1), bias=False)\n",
              "      (1): BatchNorm2d(8, eps=1e-05, momentum=0.1, affine=True, track_running_stats=True)\n",
              "      (2): ReLU()\n",
              "    )\n",
              "  )\n",
              "  (2): ConvLayer(\n",
              "    (0): Conv2d(8, 16, kernel_size=(3, 3), stride=(2, 2), padding=(1, 1), bias=False)\n",
              "    (1): BatchNorm2d(16, eps=1e-05, momentum=0.1, affine=True, track_running_stats=True)\n",
              "    (2): ReLU()\n",
              "  )\n",
              "  (3): ResBlock(\n",
              "    (conv1): ConvLayer(\n",
              "      (0): Conv2d(16, 16, kernel_size=(3, 3), stride=(1, 1), padding=(1, 1), bias=False)\n",
              "      (1): BatchNorm2d(16, eps=1e-05, momentum=0.1, affine=True, track_running_stats=True)\n",
              "      (2): ReLU()\n",
              "    )\n",
              "    (conv2): ConvLayer(\n",
              "      (0): Conv2d(16, 16, kernel_size=(3, 3), stride=(1, 1), padding=(1, 1), bias=False)\n",
              "      (1): BatchNorm2d(16, eps=1e-05, momentum=0.1, affine=True, track_running_stats=True)\n",
              "      (2): ReLU()\n",
              "    )\n",
              "  )\n",
              "  (4): ConvLayer(\n",
              "    (0): Conv2d(16, 32, kernel_size=(3, 3), stride=(2, 2), padding=(1, 1), bias=False)\n",
              "    (1): BatchNorm2d(32, eps=1e-05, momentum=0.1, affine=True, track_running_stats=True)\n",
              "    (2): ReLU()\n",
              "  )\n",
              "  (5): ResBlock(\n",
              "    (conv1): ConvLayer(\n",
              "      (0): Conv2d(32, 32, kernel_size=(3, 3), stride=(1, 1), padding=(1, 1), bias=False)\n",
              "      (1): BatchNorm2d(32, eps=1e-05, momentum=0.1, affine=True, track_running_stats=True)\n",
              "      (2): ReLU()\n",
              "    )\n",
              "    (conv2): ConvLayer(\n",
              "      (0): Conv2d(32, 32, kernel_size=(3, 3), stride=(1, 1), padding=(1, 1), bias=False)\n",
              "      (1): BatchNorm2d(32, eps=1e-05, momentum=0.1, affine=True, track_running_stats=True)\n",
              "      (2): ReLU()\n",
              "    )\n",
              "  )\n",
              "  (6): ConvLayer(\n",
              "    (0): Conv2d(32, 16, kernel_size=(3, 3), stride=(2, 2), padding=(1, 1), bias=False)\n",
              "    (1): BatchNorm2d(16, eps=1e-05, momentum=0.1, affine=True, track_running_stats=True)\n",
              "    (2): ReLU()\n",
              "  )\n",
              "  (7): ResBlock(\n",
              "    (conv1): ConvLayer(\n",
              "      (0): Conv2d(16, 16, kernel_size=(3, 3), stride=(1, 1), padding=(1, 1), bias=False)\n",
              "      (1): BatchNorm2d(16, eps=1e-05, momentum=0.1, affine=True, track_running_stats=True)\n",
              "      (2): ReLU()\n",
              "    )\n",
              "    (conv2): ConvLayer(\n",
              "      (0): Conv2d(16, 16, kernel_size=(3, 3), stride=(1, 1), padding=(1, 1), bias=False)\n",
              "      (1): BatchNorm2d(16, eps=1e-05, momentum=0.1, affine=True, track_running_stats=True)\n",
              "      (2): ReLU()\n",
              "    )\n",
              "  )\n",
              "  (8): ConvLayer(\n",
              "    (0): Conv2d(16, 10, kernel_size=(3, 3), stride=(2, 2), padding=(1, 1), bias=False)\n",
              "    (1): BatchNorm2d(10, eps=1e-05, momentum=0.1, affine=True, track_running_stats=True)\n",
              "    (2): ReLU()\n",
              "  )\n",
              "  (9): Flatten(full=False)\n",
              ")"
            ]
          },
          "metadata": {},
          "execution_count": 56
        }
      ]
    },
    {
      "cell_type": "code",
      "source": [
        "def conv_and_res(ni, nf): \n",
        "  return nn.Sequential(conv2(ni, nf), ResBlock(nf))"
      ],
      "metadata": {
        "id": "VJdvYbfdTdMa"
      },
      "execution_count": 58,
      "outputs": []
    },
    {
      "cell_type": "code",
      "source": [
        "net = nn.Sequential(\n",
        "    conv_and_res(1,8),\n",
        "    conv_and_res(8,16),\n",
        "    conv_and_res(16,32),\n",
        "    conv_and_res(32,16),\n",
        "    conv2(16,10),\n",
        "    Flatten()\n",
        ")"
      ],
      "metadata": {
        "id": "f7OUXhbVTr1K"
      },
      "execution_count": 59,
      "outputs": []
    },
    {
      "cell_type": "code",
      "source": [
        "learn = Learner(dls, net, loss_func=CrossEntropyLossFlat(), metrics=[error_rate, accuracy])"
      ],
      "metadata": {
        "id": "3i0dnyIaTsOA"
      },
      "execution_count": 60,
      "outputs": []
    },
    {
      "cell_type": "code",
      "source": [
        "learn.lr_find()"
      ],
      "metadata": {
        "colab": {
          "base_uri": "https://localhost:8080/",
          "height": 300
        },
        "id": "w2XWqWx7T2Xc",
        "outputId": "7e63ee59-67c2-4610-d202-6ff832cb8d4b"
      },
      "execution_count": 61,
      "outputs": [
        {
          "output_type": "display_data",
          "data": {
            "text/html": [
              ""
            ],
            "text/plain": [
              "<IPython.core.display.HTML object>"
            ]
          },
          "metadata": {}
        },
        {
          "output_type": "execute_result",
          "data": {
            "text/plain": [
              "SuggestedLRs(valley=0.0020892962347716093)"
            ]
          },
          "metadata": {},
          "execution_count": 61
        },
        {
          "output_type": "display_data",
          "data": {
            "image/png": "[encoded data removed]",
            "text/plain": [
              "<Figure size 432x288 with 1 Axes>"
            ]
          },
          "metadata": {
            "needs_background": "light"
          }
        }
      ]
    },
    {
      "cell_type": "code",
      "source": [
        "learn.fit_one_cycle(10, lr_max=0.0020892962347716093, \n",
        "                    cbs=[EarlyStoppingCallback(monitor='valid_loss', patience=3),\n",
        "                    ReduceLROnPlateau(monitor='valid_loss', patience=2)])"
      ],
      "metadata": {
        "colab": {
          "base_uri": "https://localhost:8080/",
          "height": 363
        },
        "id": "qw2-JNBOT313",
        "outputId": "eb657a0b-e121-43d4-e3ac-57f6b344bb54"
      },
      "execution_count": 64,
      "outputs": [
        {
          "output_type": "display_data",
          "data": {
            "text/html": [
              "<table border=\"1\" class=\"dataframe\">\n",
              "  <thead>\n",
              "    <tr style=\"text-align: left;\">\n",
              "      <th>epoch</th>\n",
              "      <th>train_loss</th>\n",
              "      <th>valid_loss</th>\n",
              "      <th>error_rate</th>\n",
              "      <th>accuracy</th>\n",
              "      <th>time</th>\n",
              "    </tr>\n",
              "  </thead>\n",
              "  <tbody>\n",
              "    <tr>\n",
              "      <td>0</td>\n",
              "      <td>1.010286</td>\n",
              "      <td>0.623953</td>\n",
              "      <td>0.109600</td>\n",
              "      <td>0.890400</td>\n",
              "      <td>02:07</td>\n",
              "    </tr>\n",
              "    <tr>\n",
              "      <td>1</td>\n",
              "      <td>0.255544</td>\n",
              "      <td>0.161249</td>\n",
              "      <td>0.028600</td>\n",
              "      <td>0.971400</td>\n",
              "      <td>02:06</td>\n",
              "    </tr>\n",
              "    <tr>\n",
              "      <td>2</td>\n",
              "      <td>0.136963</td>\n",
              "      <td>0.100981</td>\n",
              "      <td>0.027500</td>\n",
              "      <td>0.972500</td>\n",
              "      <td>02:06</td>\n",
              "    </tr>\n",
              "    <tr>\n",
              "      <td>3</td>\n",
              "      <td>0.095703</td>\n",
              "      <td>0.048594</td>\n",
              "      <td>0.013200</td>\n",
              "      <td>0.986800</td>\n",
              "      <td>02:06</td>\n",
              "    </tr>\n",
              "    <tr>\n",
              "      <td>4</td>\n",
              "      <td>0.075576</td>\n",
              "      <td>0.047581</td>\n",
              "      <td>0.012500</td>\n",
              "      <td>0.987500</td>\n",
              "      <td>02:06</td>\n",
              "    </tr>\n",
              "    <tr>\n",
              "      <td>5</td>\n",
              "      <td>0.055577</td>\n",
              "      <td>0.036375</td>\n",
              "      <td>0.011300</td>\n",
              "      <td>0.988700</td>\n",
              "      <td>02:06</td>\n",
              "    </tr>\n",
              "    <tr>\n",
              "      <td>6</td>\n",
              "      <td>0.049436</td>\n",
              "      <td>0.034534</td>\n",
              "      <td>0.010200</td>\n",
              "      <td>0.989800</td>\n",
              "      <td>02:05</td>\n",
              "    </tr>\n",
              "    <tr>\n",
              "      <td>7</td>\n",
              "      <td>0.041099</td>\n",
              "      <td>0.026106</td>\n",
              "      <td>0.008000</td>\n",
              "      <td>0.992000</td>\n",
              "      <td>02:06</td>\n",
              "    </tr>\n",
              "    <tr>\n",
              "      <td>8</td>\n",
              "      <td>0.039730</td>\n",
              "      <td>0.024260</td>\n",
              "      <td>0.006700</td>\n",
              "      <td>0.993300</td>\n",
              "      <td>02:07</td>\n",
              "    </tr>\n",
              "    <tr>\n",
              "      <td>9</td>\n",
              "      <td>0.030129</td>\n",
              "      <td>0.023023</td>\n",
              "      <td>0.006500</td>\n",
              "      <td>0.993500</td>\n",
              "      <td>02:07</td>\n",
              "    </tr>\n",
              "  </tbody>\n",
              "</table>"
            ],
            "text/plain": [
              "<IPython.core.display.HTML object>"
            ]
          },
          "metadata": {}
        }
      ]
    },
    {
      "cell_type": "code",
      "source": [
        "learn.export('/content/gdrive/MyDrive/models/MNIST.pkl')"
      ],
      "metadata": {
        "id": "FSXWQc_3agWa"
      },
      "execution_count": 66,
      "outputs": []
    },
    {
      "cell_type": "code",
      "source": [
        "interp = ClassificationInterpretation.from_learner(learn)"
      ],
      "metadata": {
        "colab": {
          "base_uri": "https://localhost:8080/",
          "height": 17
        },
        "id": "pWxYYfVceD-T",
        "outputId": "59de7cf3-5494-4747-ecbd-9e05226b0cfa"
      },
      "execution_count": 67,
      "outputs": [
        {
          "output_type": "display_data",
          "data": {
            "text/html": [
              ""
            ],
            "text/plain": [
              "<IPython.core.display.HTML object>"
            ]
          },
          "metadata": {}
        }
      ]
    },
    {
      "cell_type": "code",
      "source": [
        "interp.plot_confusion_matrix()"
      ],
      "metadata": {
        "colab": {
          "base_uri": "https://localhost:8080/",
          "height": 311
        },
        "id": "_o2qLwn5eHpD",
        "outputId": "85726e99-75e1-429b-ad94-3cd4b06dffb3"
      },
      "execution_count": 68,
      "outputs": [
        {
          "output_type": "display_data",
          "data": {
            "image/png": "[encoded data removed]",
            "text/plain": [
              "<Figure size 432x288 with 1 Axes>"
            ]
          },
          "metadata": {
            "needs_background": "light"
          }
        }
      ]
    },
    {
      "cell_type": "code",
      "source": [
        "def plot_top_losses_fix(interp, k, largest=True, **kwargs):\n",
        "        losses,idx = interp.top_losses(k, largest)\n",
        "        if not isinstance(interp.inputs, tuple): interp.inputs = (interp.inputs,)\n",
        "        if isinstance(interp.inputs[0], Tensor): inps = tuple(o[idx] for o in interp.inputs)\n",
        "        else: inps = interp.dl.create_batch(interp.dl.before_batch([tuple(o[i] for o in interp.inputs) for i in idx]))\n",
        "        b = inps + tuple(o[idx] for o in (interp.targs if is_listy(interp.targs) else (interp.targs,)))\n",
        "        x,y,its = interp.dl._pre_show_batch(b, max_n=k)\n",
        "        b_out = inps + tuple(o[idx] for o in (interp.decoded if is_listy(interp.decoded) else (interp.decoded,)))\n",
        "        x1,y1,outs = interp.dl._pre_show_batch(b_out, max_n=k)\n",
        "        if its is not None:\n",
        "            #plot_top_losses(x, y, its, outs.itemgot(slice(len(inps), None)), L(self.preds).itemgot(idx), losses,  **kwargs)\n",
        "            plot_top_losses(x, y, its, outs.itemgot(slice(len(inps), None)), interp.preds[idx], losses,  **kwargs)\n",
        "        #TODO: figure out if this is needed\n",
        "        #its None means that a batch knows how to show itself as a whole, so we pass x, x1\n",
        "        #else: show_results(x, x1, its, ctxs=ctxs, max_n=max_n, **kwargs)"
      ],
      "metadata": {
        "id": "Xg-48yJPeQ7h"
      },
      "execution_count": 73,
      "outputs": []
    },
    {
      "cell_type": "code",
      "source": [
        "plot_top_losses_fix(interp, 10, nrows=2)"
      ],
      "metadata": {
        "colab": {
          "base_uri": "https://localhost:8080/",
          "height": 418
        },
        "id": "tKqAvYNheRSl",
        "outputId": "3b0e47a1-5b00-43e1-e08e-944a26e1063e"
      },
      "execution_count": 76,
      "outputs": [
        {
          "output_type": "display_data",
          "data": {
            "image/png": "[encoded data removed]",
            "text/plain": [
              "<Figure size 1080x432 with 10 Axes>"
            ]
          },
          "metadata": {
            "needs_background": "light"
          }
        }
      ]
    },
    {
      "cell_type": "code",
      "source": [
        ""
      ],
      "metadata": {
        "id": "aawmJnGkemZR"
      },
      "execution_count": null,
      "outputs": []
    }
  ]
}