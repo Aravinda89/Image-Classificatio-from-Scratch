{
  "nbformat": 4,
  "nbformat_minor": 0,
  "metadata": {
    "colab": {
      "name": "mnist.ipynb",
      "provenance": [],
      "collapsed_sections": [],
      "authorship_tag": "ABX9TyNyNmOQ/0QQjWbCCVErB3+P",
      "include_colab_link": true
    },
    "kernelspec": {
      "name": "python3",
      "display_name": "Python 3"
    },
    "language_info": {
      "name": "python"
    }
  },
  "cells": [
    {
      "cell_type": "markdown",
      "metadata": {
        "id": "view-in-github",
        "colab_type": "text"
      },
      "source": [
        "<a href=\"https://colab.research.google.com/github/Aravinda89/Image-Classificatio-from-Scratch/blob/main/mnist.ipynb\" target=\"_parent\"><img src=\"https://colab.research.google.com/assets/colab-badge.svg\" alt=\"Open In Colab\"/></a>"
      ]
    },
    {
      "cell_type": "code",
      "execution_count": 1,
      "metadata": {
        "id": "xuQPq47Zsg1P"
      },
      "outputs": [],
      "source": [
        "# !pip install fastai==2.0.15\n",
        "# !pip install fastai2==0.0.30\n",
        "# !pip install fastcore==1.0.16\n",
        "# !pip install fastai --upgrade\n",
        "\n",
        "! [ -e /content ] && pip install -Uqq fastai \n",
        "\n",
        "# from google.colab import drive\n",
        "# drive.mount(\"/content/gdrive\", force_remount=True)"
      ]
    },
    {
      "cell_type": "code",
      "source": [
        "from fastai.vision.all import *"
      ],
      "metadata": {
        "id": "1RiLEczHtgnK"
      },
      "execution_count": 2,
      "outputs": []
    },
    {
      "cell_type": "code",
      "source": [
        "from torch import nn\n",
        "\n",
        "from fastai.callback.hook import summary\n",
        "from fastai.callback.schedule import fit_one_cycle, lr_find \n",
        "from fastai.callback.progress import ProgressCallback\n",
        "\n",
        "from fastai.data.core import Datasets, DataLoaders, show_at\n",
        "from fastai.data.external import untar_data, URLs\n",
        "from fastai.data.transforms import Categorize, GrandparentSplitter, parent_label, ToTensor, IntToFloatTensor, Normalize\n",
        "\n",
        "from fastai.layers import Flatten\n",
        "from fastai.learner import Learner\n",
        "\n",
        "from fastai.metrics import accuracy, CrossEntropyLossFlat\n",
        "\n",
        "from fastai.vision.augment import CropPad, RandomCrop, PadMode\n",
        "from fastai.vision.core import PILImageBW\n",
        "from fastai.vision.utils import get_image_files"
      ],
      "metadata": {
        "id": "wZexsZ-ntNrv"
      },
      "execution_count": 3,
      "outputs": []
    },
    {
      "cell_type": "code",
      "source": [
        "path = untar_data(URLs.MNIST)"
      ],
      "metadata": {
        "colab": {
          "base_uri": "https://localhost:8080/",
          "height": 37
        },
        "id": "UsT2B4ewwjpg",
        "outputId": "fd3f8d1d-877a-4b7e-c3a9-f6bbb462c79f"
      },
      "execution_count": 4,
      "outputs": [
        {
          "output_type": "display_data",
          "data": {
            "text/html": [
              "\n",
              "    <div>\n",
              "        <style>\n",
              "            /* Turns off some styling */\n",
              "            progress {\n",
              "                /* gets rid of default border in Firefox and Opera. */\n",
              "                border: none;\n",
              "                /* Needs to be in here for Safari polyfill so background images work as expected. */\n",
              "                background-size: auto;\n",
              "            }\n",
              "            .progress-bar-interrupted, .progress-bar-interrupted::-webkit-progress-bar {\n",
              "                background: #F44336;\n",
              "            }\n",
              "        </style>\n",
              "      <progress value='15687680' class='' max='15683414' style='width:300px; height:20px; vertical-align: middle;'></progress>\n",
              "      100.03% [15687680/15683414 00:00<00:00]\n",
              "    </div>\n",
              "    "
            ],
            "text/plain": [
              "<IPython.core.display.HTML object>"
            ]
          },
          "metadata": {}
        }
      ]
    },
    {
      "cell_type": "code",
      "source": [
        "items = get_image_files(path)"
      ],
      "metadata": {
        "id": "hbrxPUmwww37"
      },
      "execution_count": 9,
      "outputs": []
    },
    {
      "cell_type": "code",
      "source": [
        "items[0]"
      ],
      "metadata": {
        "colab": {
          "base_uri": "https://localhost:8080/"
        },
        "id": "OjOV9tW1w71P",
        "outputId": "c376a9c4-90c3-4151-f055-42ee43fe43bf"
      },
      "execution_count": 12,
      "outputs": [
        {
          "output_type": "execute_result",
          "data": {
            "text/plain": [
              "Path('/root/.fastai/data/mnist_png/training/3/9915.png')"
            ]
          },
          "metadata": {},
          "execution_count": 12
        }
      ]
    },
    {
      "cell_type": "code",
      "source": [
        "im = PILImageBW.create(items[0])\n",
        "im.show()"
      ],
      "metadata": {
        "colab": {
          "base_uri": "https://localhost:8080/",
          "height": 102
        },
        "id": "CPOLS380xHW9",
        "outputId": "c0e48918-0a80-490b-b728-0594aa6a299c"
      },
      "execution_count": 14,
      "outputs": [
        {
          "output_type": "execute_result",
          "data": {
            "text/plain": [
              "<matplotlib.axes._subplots.AxesSubplot at 0x7fc3d4826fd0>"
            ]
          },
          "metadata": {},
          "execution_count": 14
        },
        {
          "output_type": "display_data",
          "data": {
            "image/png": "[encoded data removed]",
            "text/plain": [
              "<Figure size 72x72 with 1 Axes>"
            ]
          },
          "metadata": {
            "needs_background": "light"
          }
        }
      ]
    },
    {
      "cell_type": "code",
      "source": [
        ""
      ],
      "metadata": {
        "id": "r7YjT6l5xO67"
      },
      "execution_count": null,
      "outputs": []
    }
  ]
}