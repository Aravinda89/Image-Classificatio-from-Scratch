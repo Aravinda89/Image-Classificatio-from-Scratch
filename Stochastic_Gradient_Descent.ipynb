{
  "nbformat": 4,
  "nbformat_minor": 0,
  "metadata": {
    "colab": {
      "name": "Stochastic Gradient Descent.ipynb",
      "provenance": [],
      "collapsed_sections": [],
      "authorship_tag": "ABX9TyPRGzUP9vXCNcI6kQDdA6tA",
      "include_colab_link": true
    },
    "kernelspec": {
      "name": "python3",
      "display_name": "Python 3"
    },
    "language_info": {
      "name": "python"
    }
  },
  "cells": [
    {
      "cell_type": "markdown",
      "metadata": {
        "id": "view-in-github",
        "colab_type": "text"
      },
      "source": [
        "<a href=\"https://colab.research.google.com/github/Aravinda89/Image-Classificatio-from-Scratch/blob/main/Stochastic_Gradient_Descent.ipynb\" target=\"_parent\"><img src=\"https://colab.research.google.com/assets/colab-badge.svg\" alt=\"Open In Colab\"/></a>"
      ]
    },
    {
      "cell_type": "code",
      "execution_count": 2,
      "metadata": {
        "colab": {
          "base_uri": "https://localhost:8080/"
        },
        "id": "9R95Njh7TC0L",
        "outputId": "071e7084-c257-4df7-b738-40719cfdf887"
      },
      "outputs": [
        {
          "output_type": "stream",
          "name": "stdout",
          "text": [
            "\u001b[?25l\r\u001b[K     |█▉                              | 10 kB 21.1 MB/s eta 0:00:01\r\u001b[K     |███▋                            | 20 kB 12.6 MB/s eta 0:00:01\r\u001b[K     |█████▌                          | 30 kB 8.8 MB/s eta 0:00:01\r\u001b[K     |███████▎                        | 40 kB 7.3 MB/s eta 0:00:01\r\u001b[K     |█████████▏                      | 51 kB 4.1 MB/s eta 0:00:01\r\u001b[K     |███████████                     | 61 kB 4.4 MB/s eta 0:00:01\r\u001b[K     |████████████▉                   | 71 kB 4.2 MB/s eta 0:00:01\r\u001b[K     |██████████████▋                 | 81 kB 4.7 MB/s eta 0:00:01\r\u001b[K     |████████████████▍               | 92 kB 4.6 MB/s eta 0:00:01\r\u001b[K     |██████████████████▎             | 102 kB 4.1 MB/s eta 0:00:01\r\u001b[K     |████████████████████            | 112 kB 4.1 MB/s eta 0:00:01\r\u001b[K     |██████████████████████          | 122 kB 4.1 MB/s eta 0:00:01\r\u001b[K     |███████████████████████▊        | 133 kB 4.1 MB/s eta 0:00:01\r\u001b[K     |█████████████████████████▋      | 143 kB 4.1 MB/s eta 0:00:01\r\u001b[K     |███████████████████████████▍    | 153 kB 4.1 MB/s eta 0:00:01\r\u001b[K     |█████████████████████████████▎  | 163 kB 4.1 MB/s eta 0:00:01\r\u001b[K     |███████████████████████████████ | 174 kB 4.1 MB/s eta 0:00:01\r\u001b[K     |████████████████████████████████| 179 kB 4.1 MB/s \n",
            "\u001b[?25h"
          ]
        }
      ],
      "source": [
        "! [ -e /content ] && pip install -Uqq fastai2"
      ]
    },
    {
      "cell_type": "code",
      "source": [
        "from fastai.basics import *\n",
        "import torch\n",
        "from torch import nn\n",
        "import numpy as np\n",
        "import matplotlib.pyplot as plt\n",
        "from fastai.torch_core import tensor"
      ],
      "metadata": {
        "id": "zipi8fM4Ufs4"
      },
      "execution_count": 4,
      "outputs": []
    },
    {
      "cell_type": "code",
      "source": [
        "n=100\n",
        "x = torch.ones(n,2)"
      ],
      "metadata": {
        "id": "FNKoIVPPUp7L"
      },
      "execution_count": 5,
      "outputs": []
    },
    {
      "cell_type": "code",
      "source": [
        "x.shape"
      ],
      "metadata": {
        "colab": {
          "base_uri": "https://localhost:8080/"
        },
        "id": "Y1fxnrW6XKjc",
        "outputId": "32e47acb-2550-4df1-8023-3f96419ec575"
      },
      "execution_count": 7,
      "outputs": [
        {
          "output_type": "execute_result",
          "data": {
            "text/plain": [
              "torch.Size([100, 2])"
            ]
          },
          "metadata": {},
          "execution_count": 7
        }
      ]
    },
    {
      "cell_type": "code",
      "source": [
        "len(x), x[:5]"
      ],
      "metadata": {
        "colab": {
          "base_uri": "https://localhost:8080/"
        },
        "id": "6wxsKxfXXLXc",
        "outputId": "7a975b07-20e9-4044-8edc-66f64630d261"
      },
      "execution_count": 8,
      "outputs": [
        {
          "output_type": "execute_result",
          "data": {
            "text/plain": [
              "(100, tensor([[1., 1.],\n",
              "         [1., 1.],\n",
              "         [1., 1.],\n",
              "         [1., 1.],\n",
              "         [1., 1.]]))"
            ]
          },
          "metadata": {},
          "execution_count": 8
        }
      ]
    },
    {
      "cell_type": "code",
      "source": [
        "x[:,0].uniform_(-1., 1)\n",
        "x[:5], x.shape"
      ],
      "metadata": {
        "colab": {
          "base_uri": "https://localhost:8080/"
        },
        "id": "5j8cMBI4XQTO",
        "outputId": "d0830488-20af-4e20-e9ef-fbc2d9d16a89"
      },
      "execution_count": 11,
      "outputs": [
        {
          "output_type": "execute_result",
          "data": {
            "text/plain": [
              "(tensor([[-0.2450,  1.0000],\n",
              "         [-0.6486,  1.0000],\n",
              "         [ 0.5882,  1.0000],\n",
              "         [ 0.9421,  1.0000],\n",
              "         [ 0.3997,  1.0000]]), torch.Size([100, 2]))"
            ]
          },
          "metadata": {},
          "execution_count": 11
        }
      ]
    },
    {
      "cell_type": "markdown",
      "source": [
        "Any linear model is y=mx+b\n",
        "m, x, and b are matrices"
      ],
      "metadata": {
        "id": "LqN1HS5pbLz3"
      }
    },
    {
      "cell_type": "code",
      "source": [
        "m = tensor(3.,2); m, m.shape"
      ],
      "metadata": {
        "colab": {
          "base_uri": "https://localhost:8080/"
        },
        "id": "6F0PgfM9aq5m",
        "outputId": "49bc1dc7-3f8a-40f7-916a-0a72f97fd4ad"
      },
      "execution_count": 16,
      "outputs": [
        {
          "output_type": "execute_result",
          "data": {
            "text/plain": [
              "(tensor([3., 2.]), torch.Size([2]))"
            ]
          },
          "metadata": {},
          "execution_count": 16
        }
      ]
    },
    {
      "cell_type": "code",
      "source": [
        "m"
      ],
      "metadata": {
        "colab": {
          "base_uri": "https://localhost:8080/"
        },
        "id": "GG6yarx9a-vy",
        "outputId": "b3feabd9-7087-4190-d82c-077f529b0dfc"
      },
      "execution_count": 13,
      "outputs": [
        {
          "output_type": "execute_result",
          "data": {
            "text/plain": [
              "tensor([3., 2.])"
            ]
          },
          "metadata": {},
          "execution_count": 13
        }
      ]
    },
    {
      "cell_type": "code",
      "source": [
        "b = torch.rand(n); b[:5], b.shape"
      ],
      "metadata": {
        "colab": {
          "base_uri": "https://localhost:8080/"
        },
        "id": "nAhwiLWqbCZi",
        "outputId": "93f468ee-2144-4d13-e253-3ead1913f463"
      },
      "execution_count": 17,
      "outputs": [
        {
          "output_type": "execute_result",
          "data": {
            "text/plain": [
              "(tensor([0.3534, 0.6031, 0.8773, 0.8764, 0.0966]), torch.Size([100]))"
            ]
          },
          "metadata": {},
          "execution_count": 17
        }
      ]
    },
    {
      "cell_type": "code",
      "source": [
        "m"
      ],
      "metadata": {
        "colab": {
          "base_uri": "https://localhost:8080/"
        },
        "id": "y2GkH__AbaNJ",
        "outputId": "cf58354a-3f86-4e3f-82ac-887dfa8092fc"
      },
      "execution_count": 18,
      "outputs": [
        {
          "output_type": "execute_result",
          "data": {
            "text/plain": [
              "tensor([3., 2.])"
            ]
          },
          "metadata": {},
          "execution_count": 18
        }
      ]
    },
    {
      "cell_type": "code",
      "source": [
        "b"
      ],
      "metadata": {
        "colab": {
          "base_uri": "https://localhost:8080/"
        },
        "id": "LogSRhsabgh2",
        "outputId": "402baa9d-eacd-4159-dfc3-b5a8d1dec321"
      },
      "execution_count": 19,
      "outputs": [
        {
          "output_type": "execute_result",
          "data": {
            "text/plain": [
              "tensor([0.3534, 0.6031, 0.8773, 0.8764, 0.0966, 0.3864, 0.3310, 0.2879, 0.5281,\n",
              "        0.4462, 0.6827, 0.4584, 0.7410, 0.3893, 0.2536, 0.1765, 0.5107, 0.8745,\n",
              "        0.9964, 0.8327, 0.7949, 0.2922, 0.8680, 0.7533, 0.6810, 0.9534, 0.5012,\n",
              "        0.9568, 0.1614, 0.6868, 0.3944, 0.3129, 0.8466, 0.1650, 0.0477, 0.5259,\n",
              "        0.4158, 0.3622, 0.5578, 0.5913, 0.6210, 0.2512, 0.3089, 0.0503, 0.7764,\n",
              "        0.3073, 0.0864, 0.3589, 0.2602, 0.2692, 0.8535, 0.9907, 0.6528, 0.3653,\n",
              "        0.5603, 0.5426, 0.6979, 0.3686, 0.7513, 0.6049, 0.4878, 0.0306, 0.3393,\n",
              "        0.8428, 0.5223, 0.7557, 0.6106, 0.8667, 0.6192, 0.2605, 0.5133, 0.5866,\n",
              "        0.8462, 0.7026, 0.5004, 0.1982, 0.4021, 0.2824, 0.6375, 0.8649, 0.0389,\n",
              "        0.5121, 0.5236, 0.4276, 0.3429, 0.6323, 0.1608, 0.2981, 0.3970, 0.0451,\n",
              "        0.9807, 0.5168, 0.1231, 0.1251, 0.5133, 0.8153, 0.8651, 0.5303, 0.1235,\n",
              "        0.5020])"
            ]
          },
          "metadata": {},
          "execution_count": 19
        }
      ]
    },
    {
      "cell_type": "markdown",
      "source": [
        "Matrix multiplication is denoted with @\n",
        "\n",
        "y = x@m + b"
      ],
      "metadata": {
        "id": "KqK1rWyDcWLC"
      }
    },
    {
      "cell_type": "code",
      "source": [
        "y = x@m + b"
      ],
      "metadata": {
        "id": "5etCHiiJcqSc"
      },
      "execution_count": 21,
      "outputs": []
    },
    {
      "cell_type": "code",
      "source": [
        "y "
      ],
      "metadata": {
        "colab": {
          "base_uri": "https://localhost:8080/"
        },
        "id": "PZwCHoF3csyr",
        "outputId": "71b7edc7-34ad-43b3-f279-71d8eb7b78dc"
      },
      "execution_count": 22,
      "outputs": [
        {
          "output_type": "execute_result",
          "data": {
            "text/plain": [
              "tensor([ 1.6183,  0.6572,  4.6418,  5.7028,  3.2956,  5.0755,  3.0861, -0.0926,\n",
              "         4.4248,  1.3080,  1.8719,  1.4511,  2.0107,  2.1462, -0.6416,  3.8262,\n",
              "        -0.4698,  4.6145,  4.3021,  4.5269,  2.4405,  0.4474,  3.4970, -0.0937,\n",
              "         1.2491,  4.8563, -0.2029,  3.4793,  2.4798,  2.6579,  4.9484,  4.5251,\n",
              "         2.2372,  3.8416,  5.0260,  5.5132, -0.5649,  1.1370,  4.2229,  3.8832,\n",
              "         4.6568, -0.2084,  2.0101,  1.3324,  5.6401,  1.4743,  0.2834,  5.1737,\n",
              "        -0.2101,  1.7525,  5.5857,  0.4143,  5.2604,  2.3252,  3.2114,  3.9430,\n",
              "         2.3228,  0.1892,  2.6658,  1.9969,  3.0268,  4.4324,  1.8226,  5.4237,\n",
              "        -0.0765,  5.6951,  5.4629,  4.2201,  3.2459,  2.4993,  2.6859,  3.1404,\n",
              "         4.3844,  1.7693,  2.1314,  4.6803,  3.7377, -0.1156,  5.1307,  0.1975,\n",
              "        -0.7546,  0.0229,  2.6830,  0.3069,  3.6819,  3.4611,  3.6162, -0.6860,\n",
              "         4.8037, -0.1847,  1.6779,  1.9808,  1.8057,  3.8463,  5.0000,  4.9227,\n",
              "         3.6765,  5.4424,  0.3642,  2.0914])"
            ]
          },
          "metadata": {},
          "execution_count": 22
        }
      ]
    },
    {
      "cell_type": "code",
      "source": [
        "y .shape"
      ],
      "metadata": {
        "colab": {
          "base_uri": "https://localhost:8080/"
        },
        "id": "rvRZsMvVcu1X",
        "outputId": "2b8f41c8-9782-4018-f95a-a8c2a040a83f"
      },
      "execution_count": 23,
      "outputs": [
        {
          "output_type": "execute_result",
          "data": {
            "text/plain": [
              "torch.Size([100])"
            ]
          },
          "metadata": {},
          "execution_count": 23
        }
      ]
    },
    {
      "cell_type": "code",
      "source": [
        "x[:,0]"
      ],
      "metadata": {
        "colab": {
          "base_uri": "https://localhost:8080/"
        },
        "id": "O_vNfzhTcx5r",
        "outputId": "e7192ab0-e926-4997-9cab-a8068a2835fc"
      },
      "execution_count": 24,
      "outputs": [
        {
          "output_type": "execute_result",
          "data": {
            "text/plain": [
              "tensor([-0.2450, -0.6486,  0.5882,  0.9421,  0.3997,  0.8964,  0.2517, -0.7935,\n",
              "         0.6322, -0.3794, -0.2703, -0.3358, -0.2434, -0.0810, -0.9651,  0.5499,\n",
              "        -0.9935,  0.5800,  0.4352,  0.5647, -0.1181, -0.6149,  0.2097, -0.9490,\n",
              "        -0.4773,  0.6343, -0.9014,  0.1742,  0.1061, -0.0096,  0.8513,  0.7374,\n",
              "        -0.2032,  0.5588,  0.9928,  0.9958, -0.9936, -0.4084,  0.5550,  0.4306,\n",
              "         0.6786, -0.8199, -0.0996, -0.2393,  0.9545, -0.2776, -0.6010,  0.9383,\n",
              "        -0.8235, -0.1722,  0.9107, -0.8588,  0.8692, -0.0134,  0.2170,  0.4668,\n",
              "        -0.1250, -0.7265, -0.0285, -0.2027,  0.1797,  0.8006, -0.1722,  0.8603,\n",
              "        -0.8663,  0.9798,  0.9508,  0.4511,  0.2089,  0.0796,  0.0575,  0.1846,\n",
              "         0.5127, -0.3111, -0.1230,  0.8274,  0.4452, -0.7993,  0.8311, -0.8891,\n",
              "        -0.9312, -0.8297,  0.0531, -0.7069,  0.4463,  0.2763,  0.4851, -0.9947,\n",
              "         0.8022, -0.7433, -0.4343, -0.1787, -0.1058,  0.5738,  0.8289,  0.7025,\n",
              "         0.2705,  0.9707, -0.5864, -0.1369])"
            ]
          },
          "metadata": {},
          "execution_count": 24
        }
      ]
    },
    {
      "cell_type": "code",
      "source": [
        "x[:,0].shape"
      ],
      "metadata": {
        "colab": {
          "base_uri": "https://localhost:8080/"
        },
        "id": "KI1usvgCczmz",
        "outputId": "158d8fb0-eca1-452e-e2eb-54ccff7b2987"
      },
      "execution_count": 25,
      "outputs": [
        {
          "output_type": "execute_result",
          "data": {
            "text/plain": [
              "torch.Size([100])"
            ]
          },
          "metadata": {},
          "execution_count": 25
        }
      ]
    },
    {
      "cell_type": "code",
      "source": [
        "plt.scatter(x[:,0], y)"
      ],
      "metadata": {
        "colab": {
          "base_uri": "https://localhost:8080/",
          "height": 288
        },
        "id": "Z25jztQubhRT",
        "outputId": "619ab54a-0594-4636-bf69-f14d86567d25"
      },
      "execution_count": 26,
      "outputs": [
        {
          "output_type": "execute_result",
          "data": {
            "text/plain": [
              "<matplotlib.collections.PathCollection at 0x7f69d2420350>"
            ]
          },
          "metadata": {},
          "execution_count": 26
        },
        {
          "output_type": "display_data",
          "data": {
            "image/png": "[encoded data removed]",
            "text/plain": [
              "<Figure size 432x288 with 1 Axes>"
            ]
          },
          "metadata": {
            "needs_background": "light"
          }
        }
      ]
    },
    {
      "cell_type": "code",
      "source": [
        ""
      ],
      "metadata": {
        "id": "iNO7Fr_cc2SC"
      },
      "execution_count": null,
      "outputs": []
    }
  ]
}